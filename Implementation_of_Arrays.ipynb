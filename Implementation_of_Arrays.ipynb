{
 "cells": [
  {
   "cell_type": "code",
   "execution_count": 1,
   "metadata": {},
   "outputs": [
    {
     "name": "stdout",
     "output_type": "stream",
     "text": [
      "['one', 'two', 'three', 'four']\n"
     ]
    }
   ],
   "source": [
    "lst = ['one', 'two', 'four']\n",
    "lst.insert(2, 'three')\n",
    "print(lst)"
   ]
  },
  {
   "cell_type": "code",
   "execution_count": 5,
   "metadata": {},
   "outputs": [
    {
     "name": "stdout",
     "output_type": "stream",
     "text": [
      "['one', 'two', 'three']\n"
     ]
    }
   ],
   "source": [
    "lst = ['one', 'two', 'four', ]\n",
    "lst[2] = 'three'\n",
    "print(lst)"
   ]
  },
  {
   "cell_type": "code",
   "execution_count": 13,
   "metadata": {},
   "outputs": [
    {
     "name": "stdout",
     "output_type": "stream",
     "text": [
      "['three', 'four', 'two', 'one']\n",
      "['three', 'four', 'two', 'one']\n"
     ]
    }
   ],
   "source": [
    "lst = ['one', 'two', 'four', 'three']\n",
    "l = []\n",
    "for i in range(len(lst)):\n",
    "    l.append(lst[len(lst) - i - 1])\n",
    "print(l)\n",
    "print(lst[::-1])\n",
    "    \n"
   ]
  },
  {
   "cell_type": "code",
   "execution_count": 14,
   "metadata": {},
   "outputs": [
    {
     "name": "stdout",
     "output_type": "stream",
     "text": [
      "[0, 1, 4, 9, 16, 25, 36, 49, 64, 81]\n"
     ]
    }
   ],
   "source": [
    "squares = []\n",
    "for i in range(10):\n",
    "    squares.append(i**2)\n",
    "print(squares)"
   ]
  },
  {
   "cell_type": "code",
   "execution_count": 16,
   "metadata": {},
   "outputs": [
    {
     "name": "stdout",
     "output_type": "stream",
     "text": [
      "[0, 1, 4, 9, 16, 25, 36, 49, 64, 81]\n"
     ]
    }
   ],
   "source": [
    "squares = []\n",
    "squares = [i**2 for i in range(10)]\n",
    "print(squares)"
   ]
  },
  {
   "cell_type": "code",
   "execution_count": 6,
   "metadata": {},
   "outputs": [
    {
     "name": "stdout",
     "output_type": "stream",
     "text": [
      "enter a power3\n",
      "How many?5\n",
      "[1, 8, 216, 13824, 1728000]\n"
     ]
    }
   ],
   "source": [
    "power = int(input('enter a power'))\n",
    "num = int(input('How many?'))\n",
    "powers = []\n",
    "#pow = 1\n",
    "for i in range(num+1):\n",
    "    pow = 1\n",
    "    if i == 0:\n",
    "        continue\n",
    "    for j in range(power):\n",
    "        pow = pow * i\n",
    "    powers.append(pow)\n",
    "print(powers)\n",
    "        "
   ]
  },
  {
   "cell_type": "code",
   "execution_count": 4,
   "metadata": {},
   "outputs": [
    {
     "name": "stdout",
     "output_type": "stream",
     "text": [
      "[[1, 5, 9], [2, 6, 10], [3, 7, 11], [4, 8, 12]]\n"
     ]
    }
   ],
   "source": [
    "matrix = [[1, 2, 3, 4], [5, 6, 7, 8], [9, 10, 11, 12]]\n",
    "transpose = []\n",
    "for i in range(4):\n",
    "    lst = []\n",
    "    for j in matrix:\n",
    "        lst.append(j[i])\n",
    "    transpose.append(lst)\n",
    "print(transpose)"
   ]
  },
  {
   "cell_type": "code",
   "execution_count": 5,
   "metadata": {},
   "outputs": [
    {
     "name": "stdout",
     "output_type": "stream",
     "text": [
      "[[1, 5, 9], [2, 6, 10], [3, 7, 11], [4, 8, 12]]\n"
     ]
    }
   ],
   "source": [
    "transpose = [[j[i] for j in matrix] for i in range(4)]\n",
    "print(transpose)"
   ]
  },
  {
   "cell_type": "code",
   "execution_count": 2,
   "metadata": {},
   "outputs": [
    {
     "name": "stdout",
     "output_type": "stream",
     "text": [
      "enter a number16\n",
      "16 is divisible by 2\n",
      "16 is divisible by 4\n",
      "16 is divisible by 8\n",
      "16 is not a prime number\n"
     ]
    }
   ],
   "source": [
    "i = 2\n",
    "num = int(input('enter a number'))\n",
    "isDivisible = False\n",
    "while i < num:\n",
    "    if num % i == 0:\n",
    "        print('{} is divisible by {}'.format(num, i))\n",
    "        isDivisible = True\n",
    "    i += 1\n",
    "if isDivisible:\n",
    "    print('{} is not a prime number'.format(num))\n",
    "else:\n",
    "    print('{} is a prime number'.format(num))\n",
    "    "
   ]
  },
  {
   "cell_type": "code",
   "execution_count": 5,
   "metadata": {},
   "outputs": [
    {
     "name": "stdout",
     "output_type": "stream",
     "text": [
      "[23, 29, 31, 37, 41, 43, 47]\n"
     ]
    }
   ],
   "source": [
    "index1 = 20\n",
    "index2 = 50\n",
    "#isDivisible = False\n",
    "primes = []\n",
    "for i in range(index1, index2+1):\n",
    "    isDivisible = False\n",
    "    for j in range(2, i):\n",
    "        if i%j == 0:\n",
    "            isDivisible = True\n",
    "            break\n",
    "    if not isDivisible:\n",
    "        primes.append(i)\n",
    "print(primes)\n",
    "    "
   ]
  },
  {
   "cell_type": "code",
   "execution_count": null,
   "metadata": {},
   "outputs": [],
   "source": []
  }
 ],
 "metadata": {
  "kernelspec": {
   "display_name": "Python 3",
   "language": "python",
   "name": "python3"
  },
  "language_info": {
   "codemirror_mode": {
    "name": "ipython",
    "version": 3
   },
   "file_extension": ".py",
   "mimetype": "text/x-python",
   "name": "python",
   "nbconvert_exporter": "python",
   "pygments_lexer": "ipython3",
   "version": "3.6.5"
  }
 },
 "nbformat": 4,
 "nbformat_minor": 2
}
