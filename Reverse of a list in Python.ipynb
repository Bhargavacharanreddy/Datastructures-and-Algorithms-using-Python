{
 "cells": [
  {
   "cell_type": "code",
   "execution_count": 1,
   "metadata": {},
   "outputs": [
    {
     "name": "stdout",
     "output_type": "stream",
     "text": [
      "[500, 400, 300, 200, 100]\n"
     ]
    }
   ],
   "source": [
    "list=[100,200,300,400,500]\n",
    "list1=[]\n",
    "for i in range(1,len(list)+1):\n",
    "    list1.append(list[len(list)-i])\n",
    "    \n",
    "print(list1)"
   ]
  },
  {
   "cell_type": "markdown",
   "metadata": {},
   "source": [
    "# Following is a Python Code for reversing a list without using another list."
   ]
  },
  {
   "cell_type": "code",
   "execution_count": null,
   "metadata": {},
   "outputs": [],
   "source": [
    "list=[100,200,300,400,500]\n",
    "i=0\n",
    "j=len(list)-1\n",
    "while i<j:\n",
    "    list[i],list[j]=list[j],list[i] #swapping two numbers\n",
    "    i+=1\n",
    "    j-=1\n",
    "print(list)"
   ]
  },
  {
   "cell_type": "markdown",
   "metadata": {},
   "source": [
    "# Following is a Python Code for reversing list without using a temporary variable and temporary list"
   ]
  },
  {
   "cell_type": "code",
   "execution_count": 3,
   "metadata": {},
   "outputs": [
    {
     "name": "stdout",
     "output_type": "stream",
     "text": [
      "[500, 400, 300, 200, 100]\n"
     ]
    }
   ],
   "source": [
    "list=[100,200,300,400,500]\n",
    "i=0\n",
    "j=len(list)-1\n",
    "while i<j:\n",
    "    list[i]=list[i]+list[j]\n",
    "    list[j]=list[i]-list[j]\n",
    "    list[i]=list[i]-list[j]\n",
    "    i+=1\n",
    "    j-=1\n",
    "print(list)"
   ]
  },
  {
   "cell_type": "code",
   "execution_count": null,
   "metadata": {},
   "outputs": [],
   "source": []
  }
 ],
 "metadata": {
  "kernelspec": {
   "display_name": "Python 3",
   "language": "python",
   "name": "python3"
  },
  "language_info": {
   "codemirror_mode": {
    "name": "ipython",
    "version": 3
   },
   "file_extension": ".py",
   "mimetype": "text/x-python",
   "name": "python",
   "nbconvert_exporter": "python",
   "pygments_lexer": "ipython3",
   "version": "3.6.7"
  }
 },
 "nbformat": 4,
 "nbformat_minor": 2
}
